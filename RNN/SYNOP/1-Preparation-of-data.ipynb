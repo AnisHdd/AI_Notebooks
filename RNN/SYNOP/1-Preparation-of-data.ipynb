{
 "cells": [
  {
   "cell_type": "markdown",
   "id": "71b5dffe-0a37-428c-bba4-f913450147e2",
   "metadata": {},
   "source": [
    "# <!-- TITLE --> I - Preparation of data\n",
    "\n",
    "\n",
    "## Objectives :\n",
    " - Undestand the data\n",
    " - cleanup a usable dataset\n",
    "\n",
    "\n",
    "SYNOP meteorological data, can be found on :  \n",
    "https://public.opendatasoft.com  \n",
    "\n",
    "About SYNOP datasets :  \n",
    "https://public.opendatasoft.com/explore/dataset/donnees-synop-essentielles-omm/information/?sort=date\n",
    "\n",
    "This dataset contains a set of measurements (temperature, pressure, ...) made every 3 hours at the LYS airport.  \n",
    "The objective will be to predict the evolution of the weather !\n",
    "\n",
    "## What we're going to do :\n",
    "\n",
    " - Read the data\n",
    " - Cleanup and build a usable dataset\n",
    "\n",
    "## Step 1 - Import and init"
   ]
  },
  {
   "cell_type": "code",
   "execution_count": null,
   "id": "54c87b31-6d40-4bd0-b8b3-3182637d424b",
   "metadata": {},
   "outputs": [],
   "source": [
    "import tensorflow as tf\n",
    "from tensorflow import keras\n",
    "from tensorflow.keras.callbacks import TensorBoard\n",
    "import numpy as np\n",
    "import matplotlib.pyplot as plt\n",
    "import pandas as pd\n",
    "import h5py, json\n",
    "import os,time,sys\n",
    "import math, random\n",
    "from importlib import reload\n",
    "sys.path.append('..')"
   ]
  },
  {
   "cell_type": "code",
   "execution_count": null,
   "id": "bb40d685-1ab5-45d9-8265-f477d0587b04",
   "metadata": {},
   "outputs": [],
   "source": [
    "run_dir = '../run/SYNOP'\n",
    "datasets_dir = '../datasets'"
   ]
  },
  {
   "cell_type": "code",
   "execution_count": null,
   "id": "eb7dd206-9cd9-4434-b60a-6443879c30f0",
   "metadata": {},
   "outputs": [],
   "source": [
    "data_filename   = 'origine/donnees-synop-essentielles-omm-LYS.csv'\n",
    "schema_filename = 'origine/schema.json'"
   ]
  },
  {
   "cell_type": "markdown",
   "id": "04ec7eda-6c52-4239-bd57-adb817a33c70",
   "metadata": {},
   "source": [
    "## Step 2 - Retrieve the dataset\n",
    "There are two parts to recover:\n",
    " - The data itself (csv)\n",
    " - Description of the data (json)``\n",
    "\n"
   ]
  },
  {
   "cell_type": "markdown",
   "id": "95c02454-bbe0-4fea-9a3c-2b1ff489ace2",
   "metadata": {},
   "source": [
    "### 2.1 - Read dataset description\n",
    "We need the list and description of the columns."
   ]
  },
  {
   "cell_type": "code",
   "execution_count": null,
   "id": "3075b218-8444-4752-8e82-e5cb52b917bf",
   "metadata": {},
   "outputs": [],
   "source": [
    "with open(f'{datasets_dir}/SYNOP/{schema_filename}','r') as json_file:\n",
    "    schema = json.load(json_file)\n",
    "\n",
    "synop_codes=list( schema['definitions']['donnees-synop-essentielles-omm_records']['properties']['fields']['properties'].keys() )"
   ]
  },
  {
   "cell_type": "markdown",
   "id": "65c593de-b625-4bd6-9b51-105e3b102989",
   "metadata": {},
   "source": [
    "### 2.2 - Read data"
   ]
  },
  {
   "cell_type": "code",
   "execution_count": null,
   "id": "96cdbbe5-33a1-4abb-af20-ee766094fc86",
   "metadata": {},
   "outputs": [],
   "source": [
    "df = pd.read_csv(f'{datasets_dir}/SYNOP/{data_filename}', header=0, sep=';')\n",
    "display(df.tail(10))\n",
    "\n",
    "# ---- Get the columns name as descriptions\n",
    "synop_desc = list(df.columns)\n",
    "\n",
    "# ---- Set Codes as columns name\n",
    "df.columns   = synop_codes\n",
    "code2desc    = dict(zip(synop_codes, synop_desc))\n",
    "\n",
    "# ---- Count the na values by columns\n",
    "columns_na = df.isna().sum().tolist()\n",
    "\n",
    "# ---- Show all of that\n",
    "df_desc=pd.DataFrame({'Code':synop_codes, 'Description':synop_desc, 'Na':columns_na})\n",
    "\n",
    "display(df_desc.style.set_properties(**{'text-align': 'left'}))\n",
    "\n",
    "print('Shape is : ', df.shape)"
   ]
  },
  {
   "cell_type": "markdown",
   "id": "9953910e-1ce2-4f47-85af-853f8331b3c9",
   "metadata": {},
   "source": [
    "## Step 3 - Prepare dataset\n",
    "### 3.1 - Keep only certain columns"
   ]
  },
  {
   "cell_type": "code",
   "execution_count": null,
   "id": "27429888-59dc-4c22-ae1b-8daaf10c59fb",
   "metadata": {},
   "outputs": [],
   "source": [
    "columns_used=['date','pmer','tend','cod_tend','dd','ff','td','u','ww','pres','rafper','per','rr1','rr3','tc']\n",
    "\n",
    "# ---- Drop unused columns\n",
    "\n",
    "to_drop = df.columns.difference(columns_used)\n",
    "df.drop( to_drop, axis=1, inplace=True)\n",
    "\n",
    "# ---- Show all of that\n",
    "\n",
    "display(df.head(20))\n",
    "\n",
    "display(df.describe().style.format('{:.2f}'))\n",
    "\n",
    "# ---- 'per' column is constant, we can drop it\n",
    "\n",
    "df.drop(['per'],axis=1,inplace=True)"
   ]
  },
  {
   "cell_type": "markdown",
   "id": "2e2b177b-1279-4ec0-a6ab-92dc285eade1",
   "metadata": {},
   "source": [
    "### 3.2 - Cleanup dataset\n",
    "Let's sort it and cook up some NaN values"
   ]
  },
  {
   "cell_type": "code",
   "execution_count": null,
   "id": "db07e5d2-1097-46e7-8033-7e6fcadad69d",
   "metadata": {},
   "outputs": [],
   "source": [
    "# ---- First of all, we have to sort on the date\n",
    "\n",
    "df.sort_values(['date'],  inplace=True)\n",
    "df.reset_index(drop=True, inplace=True)\n",
    "\n",
    "# ---- Before : Lines with NaN\n",
    "\n",
    "na_rows=df.isna().any(axis=1)\n",
    "print('befor :')\n",
    "display( df[na_rows].head(10) )\n",
    "\n",
    "# ---- Nice interpolation for plugging holes\n",
    "\n",
    "df.interpolate(inplace=True)\n",
    "\n",
    "# ---- After\n",
    "\n",
    "print('After :')\n",
    "display(df[na_rows].head(10))"
   ]
  },
  {
   "cell_type": "markdown",
   "id": "4f8911b7-c5d6-417c-bf1f-0efe7e160ae4",
   "metadata": {},
   "source": [
    "## Step 4 - About our enhanced dataset\n",
    "### 4.1 - Summarize it "
   ]
  },
  {
   "cell_type": "code",
   "execution_count": null,
   "id": "21388520-0a27-4223-82fc-2866d6ba5180",
   "metadata": {},
   "outputs": [],
   "source": [
    "# ---- Count the na values by columns\n",
    "dataset_na    = df.isna().sum().tolist()\n",
    "dataset_cols  = df.columns.tolist()\n",
    "dataset_desc  = [ code2desc[c] for c in dataset_cols ]\n",
    "\n",
    "# ---- Show all of that\n",
    "df_desc=pd.DataFrame({'Columns':dataset_cols, 'Description':dataset_desc, 'Na':dataset_na})\n",
    "print('Dataset columns :')\n",
    "display(df_desc.style.set_properties(**{'text-align': 'left'}))\n",
    "\n",
    "print('Have a look :')\n",
    "display(df.tail(20))\n",
    "print('Shape is : ', df.shape)"
   ]
  },
  {
   "cell_type": "code",
   "execution_count": null,
   "id": "55788c3d-1fb5-4e9a-b67c-e061a5a91ce3",
   "metadata": {},
   "outputs": [],
   "source": [
    "### 5.2 - Have a look (1 month)"
   ]
  },
  {
   "cell_type": "code",
   "execution_count": null,
   "id": "44785e6b-1524-4e2b-86db-80e02a5a7bfd",
   "metadata": {},
   "outputs": [],
   "source": [
    "i=random.randint(0,len(df)-240)\n",
    "df.iloc[i:i+240].plot(subplots=True, fontsize=12, figsize=(16,20))\n",
    "plt.show()"
   ]
  },
  {
   "cell_type": "markdown",
   "id": "22f3c423-efd6-47e9-a816-bf2d3c4519b1",
   "metadata": {},
   "source": [
    "## Step 5 - Save it"
   ]
  },
  {
   "cell_type": "code",
   "execution_count": null,
   "id": "5c1d401b-ee4c-4002-836b-41976abbabed",
   "metadata": {},
   "outputs": [],
   "source": [
    "dataset_filename     = 'synop-LYS.csv'\n",
    "description_filename = 'synop.json'\n",
    "output_dir           = '../datasets/SYNOP/cleaned'\n",
    "# ---- Save it\n",
    "os.mkdir(output_dir)\n",
    "\n",
    "filedata = f'{output_dir}/{dataset_filename}'\n",
    "filedesc = f'{output_dir}/{description_filename}'\n",
    "\n",
    "df.to_csv(filedata, sep=';', index=False)\n",
    "size=os.path.getsize(filedata)/(1024*1024)\n",
    "print(f'Dataset saved. ({size:0.1f} Mo)')\n",
    "\n",
    "with open(filedesc, 'w', encoding='utf-8') as f:\n",
    "    json.dump(code2desc, f, indent=4)\n",
    "print('Synop description saved.')\n",
    "    "
   ]
  },
  {
   "cell_type": "code",
   "execution_count": null,
   "id": "e3ff99b2-2940-43e0-87ae-2fe38a30cd5a",
   "metadata": {},
   "outputs": [],
   "source": []
  }
 ],
 "metadata": {
  "kernelspec": {
   "display_name": "Python 3 (ipykernel)",
   "language": "python",
   "name": "python3"
  },
  "language_info": {
   "codemirror_mode": {
    "name": "ipython",
    "version": 3
   },
   "file_extension": ".py",
   "mimetype": "text/x-python",
   "name": "python",
   "nbconvert_exporter": "python",
   "pygments_lexer": "ipython3",
   "version": "3.8.12"
  }
 },
 "nbformat": 4,
 "nbformat_minor": 5
}
